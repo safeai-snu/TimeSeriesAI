{
  "nbformat": 4,
  "nbformat_minor": 0,
  "metadata": {
    "colab": {
      "provenance": [],
      "gpuType": "T4",
      "authorship_tag": "ABX9TyOIEH5UuyJWXHp0cIU2FtFD",
      "include_colab_link": true
    },
    "kernelspec": {
      "name": "python3",
      "display_name": "Python 3"
    },
    "language_info": {
      "name": "python"
    },
    "accelerator": "GPU"
  },
  "cells": [
    {
      "cell_type": "markdown",
      "metadata": {
        "id": "view-in-github",
        "colab_type": "text"
      },
      "source": [
        "<a href=\"https://colab.research.google.com/github/safeai-snu/TimeSeriesAI/blob/main/ch3/ch3_Transformer_and_Linear_models.ipynb\" target=\"_parent\"><img src=\"https://colab.research.google.com/assets/colab-badge.svg\" alt=\"Open In Colab\"/></a>"
      ]
    },
    {
      "cell_type": "markdown",
      "source": [
        "## **Time Series 딥러닝 학습 예제**\n",
        "\n",
        "참고: https://github.com/thuml/Time-Series-Library\n",
        "\n"
      ],
      "metadata": {
        "id": "eXY0weKziRS2"
      }
    },
    {
      "cell_type": "markdown",
      "source": [
        "#### **Github에서 .py 파일 다운로드**"
      ],
      "metadata": {
        "id": "rAl2BH_kjxn3"
      }
    },
    {
      "cell_type": "code",
      "execution_count": 1,
      "metadata": {
        "colab": {
          "base_uri": "https://localhost:8080/"
        },
        "id": "NJjAr5avh8Gy",
        "outputId": "2cf8447c-a901-4832-f3db-d8850f64ffe0"
      },
      "outputs": [
        {
          "output_type": "stream",
          "name": "stdout",
          "text": [
            "Cloning into 'TimeSeriesAI'...\n",
            "remote: Enumerating objects: 573, done.\u001b[K\n",
            "remote: Counting objects: 100% (342/342), done.\u001b[K\n",
            "remote: Compressing objects: 100% (199/199), done.\u001b[K\n",
            "remote: Total 573 (delta 196), reused 252 (delta 140), pack-reused 231 (from 1)\u001b[K\n",
            "Receiving objects: 100% (573/573), 51.50 MiB | 11.21 MiB/s, done.\n",
            "Resolving deltas: 100% (272/272), done.\n",
            "Updating files: 100% (131/131), done.\n",
            "/content/TimeSeriesAI/ch3\n"
          ]
        }
      ],
      "source": [
        "!git clone https://github.com/safeai-snu/TimeSeriesAI.git\n",
        "%cd TimeSeriesAI/ch3"
      ]
    },
    {
      "cell_type": "markdown",
      "source": [
        "#### **원하는 학습 파라미터 지정**"
      ],
      "metadata": {
        "id": "xOgarhlljw7r"
      }
    },
    {
      "cell_type": "code",
      "source": [
        "import numpy as np\n",
        "import argparse\n",
        "from exp.exp_main import Exp_Main\n",
        "import random\n",
        "import torch\n",
        "\n",
        "fix_seed = 2021\n",
        "random.seed(fix_seed)\n",
        "torch.manual_seed(fix_seed)\n",
        "np.random.seed(fix_seed)\n",
        "\n",
        "parser = argparse.ArgumentParser(description='HD')\n",
        "\n",
        "parser.add_argument('--model', type=str, default='Informer')\n",
        "parser.add_argument('--seq_len', type=int, default=48, help='input sequence length')\n",
        "parser.add_argument('--label_len', type=int, default=24, help='start token length')\n",
        "parser.add_argument('--pred_len', type=int, default=48, help='prediction sequence length')\n",
        "\n",
        "args = parser.parse_args(args=[])\n",
        "args.use_gpu = True if torch.cuda.is_available() else False\n",
        "\n",
        "print('Args in experiment:')\n",
        "print(args)"
      ],
      "metadata": {
        "colab": {
          "base_uri": "https://localhost:8080/"
        },
        "id": "obZh4U7BiAki",
        "outputId": "c9a86747-8a36-44d8-9ffc-e7ea01602876"
      },
      "execution_count": 2,
      "outputs": [
        {
          "output_type": "stream",
          "name": "stdout",
          "text": [
            "Args in experiment:\n",
            "Namespace(model='Informer', seq_len=48, label_len=24, pred_len=48, use_gpu=True)\n"
          ]
        }
      ]
    },
    {
      "cell_type": "markdown",
      "source": [
        "#### **모델 학습**"
      ],
      "metadata": {
        "id": "r-aF0oEKj-AE"
      }
    },
    {
      "cell_type": "code",
      "source": [
        "Exp = Exp_Main\n",
        "exp = Exp(args)\n",
        "setting = '{}_sl{}_pl{}'.format(args.model, args.seq_len, args.pred_len)\n",
        "exp.train(setting)"
      ],
      "metadata": {
        "colab": {
          "base_uri": "https://localhost:8080/"
        },
        "id": "-enfT72OiDTH",
        "outputId": "419a3c48-8fac-4f98-c52f-ebf1c8b430a1"
      },
      "execution_count": 3,
      "outputs": [
        {
          "output_type": "stream",
          "name": "stdout",
          "text": [
            "Use GPU: cuda:0\n",
            "train 8545\n",
            "val 2833\n",
            "test 2833\n",
            "\titers: 100, epoch: 1 | loss: 0.4370818\n",
            "\tspeed: 0.0722s/iter; left time: 185.6280s\n",
            "\titers: 200, epoch: 1 | loss: 0.4755934\n",
            "\tspeed: 0.0433s/iter; left time: 107.0382s\n",
            "Epoch: 1 cost time: 13.183473110198975\n",
            "Epoch: 1, Steps: 267 | Train Loss: 0.5042599 Vali Loss: 1.1066836 Test Loss: 0.8538309\n",
            "Validation loss decreased (inf --> 1.106684).  Saving model ...\n",
            "Updating learning rate to 0.01\n",
            "\titers: 100, epoch: 2 | loss: 0.4636380\n",
            "\tspeed: 0.1257s/iter; left time: 289.5642s\n",
            "\titers: 200, epoch: 2 | loss: 0.4339673\n",
            "\tspeed: 0.0441s/iter; left time: 97.1902s\n",
            "Epoch: 2 cost time: 11.674877405166626\n",
            "Epoch: 2, Steps: 267 | Train Loss: 0.4725710 Vali Loss: 1.0784202 Test Loss: 0.8256472\n",
            "Validation loss decreased (1.106684 --> 1.078420).  Saving model ...\n",
            "Updating learning rate to 0.005\n",
            "\titers: 100, epoch: 3 | loss: 0.5156240\n",
            "\tspeed: 0.0915s/iter; left time: 186.2903s\n",
            "\titers: 200, epoch: 3 | loss: 0.4554978\n",
            "\tspeed: 0.0453s/iter; left time: 87.7011s\n",
            "Epoch: 3 cost time: 11.324921607971191\n",
            "Epoch: 3, Steps: 267 | Train Loss: 0.4487487 Vali Loss: 1.1041044 Test Loss: 0.9317330\n",
            "EarlyStopping counter: 1 out of 3\n",
            "Updating learning rate to 0.0025\n",
            "\titers: 100, epoch: 4 | loss: 0.4798057\n",
            "\tspeed: 0.1383s/iter; left time: 244.7043s\n",
            "\titers: 200, epoch: 4 | loss: 0.4515835\n",
            "\tspeed: 0.0780s/iter; left time: 130.1775s\n",
            "Epoch: 4 cost time: 16.623681783676147\n",
            "Epoch: 4, Steps: 267 | Train Loss: 0.4306114 Vali Loss: 1.1331590 Test Loss: 0.8699474\n",
            "EarlyStopping counter: 2 out of 3\n",
            "Updating learning rate to 0.00125\n",
            "\titers: 100, epoch: 5 | loss: 0.3231484\n",
            "\tspeed: 0.1103s/iter; left time: 165.8191s\n",
            "\titers: 200, epoch: 5 | loss: 0.4296566\n",
            "\tspeed: 0.0835s/iter; left time: 117.1820s\n",
            "Epoch: 5 cost time: 15.237742900848389\n",
            "Epoch: 5, Steps: 267 | Train Loss: 0.4165123 Vali Loss: 1.1183842 Test Loss: 0.8816209\n",
            "EarlyStopping counter: 3 out of 3\n",
            "Early stopping\n"
          ]
        }
      ]
    },
    {
      "cell_type": "code",
      "source": [
        "preds, trues, inputx = exp.test(setting)\n",
        "torch.cuda.empty_cache()"
      ],
      "metadata": {
        "colab": {
          "base_uri": "https://localhost:8080/"
        },
        "id": "IYsh0NcjiGoA",
        "outputId": "e8193499-e007-47c2-d869-a567cc704756"
      },
      "execution_count": 5,
      "outputs": [
        {
          "output_type": "stream",
          "name": "stdout",
          "text": [
            "test 2833\n",
            "mse:0.8817364573478699, mae:0.6719339489936829, rmse:0.9390082359313965\n"
          ]
        }
      ]
    },
    {
      "cell_type": "code",
      "source": [
        "parser = argparse.ArgumentParser(description='HD')\n",
        "\n",
        "parser.add_argument('--model', type=str, default='DLinear')\n",
        "parser.add_argument('--seq_len', type=int, default=48, help='input sequence length')\n",
        "parser.add_argument('--label_len', type=int, default=24, help='start token length')\n",
        "parser.add_argument('--pred_len', type=int, default=48, help='prediction sequence length')\n",
        "\n",
        "args = parser.parse_args(args=[])\n",
        "args.use_gpu = True if torch.cuda.is_available() else False\n",
        "\n",
        "print('Args in experiment:')\n",
        "print(args)"
      ],
      "metadata": {
        "colab": {
          "base_uri": "https://localhost:8080/"
        },
        "id": "F_07SPwBiw-w",
        "outputId": "e502b297-be58-4c55-ecb5-5b211d503aeb"
      },
      "execution_count": 13,
      "outputs": [
        {
          "output_type": "stream",
          "name": "stdout",
          "text": [
            "Args in experiment:\n",
            "Namespace(model='DLinear', seq_len=48, label_len=24, pred_len=48, use_gpu=True)\n"
          ]
        }
      ]
    },
    {
      "cell_type": "code",
      "source": [
        "Exp = Exp_Main\n",
        "exp = Exp(args)\n",
        "setting = '{}_sl{}_pl{}'.format(args.model, args.seq_len, args.pred_len)\n",
        "exp.train(setting)"
      ],
      "metadata": {
        "colab": {
          "base_uri": "https://localhost:8080/"
        },
        "id": "o1-HYtdrjKDA",
        "outputId": "36d092d4-1f81-4b8b-c314-012e758af2b2"
      },
      "execution_count": 14,
      "outputs": [
        {
          "output_type": "stream",
          "name": "stdout",
          "text": [
            "Use GPU: cuda:0\n",
            "train 8545\n",
            "val 2833\n",
            "test 2833\n",
            "\titers: 100, epoch: 1 | loss: 0.3955944\n",
            "\tspeed: 0.0115s/iter; left time: 29.5234s\n",
            "\titers: 200, epoch: 1 | loss: 0.3599916\n",
            "\tspeed: 0.0051s/iter; left time: 12.4970s\n",
            "Epoch: 1 cost time: 2.1409592628479004\n",
            "Epoch: 1, Steps: 267 | Train Loss: 0.3418776 Vali Loss: 0.5222647 Test Loss: 0.3737909\n",
            "Validation loss decreased (inf --> 0.522265).  Saving model ...\n",
            "Updating learning rate to 0.01\n",
            "\titers: 100, epoch: 2 | loss: 0.3112001\n",
            "\tspeed: 0.0299s/iter; left time: 68.8700s\n",
            "\titers: 200, epoch: 2 | loss: 0.3664490\n",
            "\tspeed: 0.0053s/iter; left time: 11.6027s\n",
            "Epoch: 2 cost time: 1.875929594039917\n",
            "Epoch: 2, Steps: 267 | Train Loss: 0.3371536 Vali Loss: 0.5299445 Test Loss: 0.3673136\n",
            "EarlyStopping counter: 1 out of 3\n",
            "Updating learning rate to 0.005\n",
            "\titers: 100, epoch: 3 | loss: 0.2687288\n",
            "\tspeed: 0.0541s/iter; left time: 110.2966s\n",
            "\titers: 200, epoch: 3 | loss: 0.3792759\n",
            "\tspeed: 0.0080s/iter; left time: 15.5617s\n",
            "Epoch: 3 cost time: 3.037348985671997\n",
            "Epoch: 3, Steps: 267 | Train Loss: 0.3298493 Vali Loss: 0.5134510 Test Loss: 0.3565471\n",
            "Validation loss decreased (0.522265 --> 0.513451).  Saving model ...\n",
            "Updating learning rate to 0.0025\n",
            "\titers: 100, epoch: 4 | loss: 0.3060302\n",
            "\tspeed: 0.0540s/iter; left time: 95.6284s\n",
            "\titers: 200, epoch: 4 | loss: 0.3498573\n",
            "\tspeed: 0.0099s/iter; left time: 16.6052s\n",
            "Epoch: 4 cost time: 3.9108023643493652\n",
            "Epoch: 4, Steps: 267 | Train Loss: 0.3260928 Vali Loss: 0.5104938 Test Loss: 0.3499930\n",
            "Validation loss decreased (0.513451 --> 0.510494).  Saving model ...\n",
            "Updating learning rate to 0.00125\n",
            "\titers: 100, epoch: 5 | loss: 0.3286859\n",
            "\tspeed: 0.0378s/iter; left time: 56.7699s\n",
            "\titers: 200, epoch: 5 | loss: 0.3364502\n",
            "\tspeed: 0.0054s/iter; left time: 7.5491s\n",
            "Epoch: 5 cost time: 2.0449326038360596\n",
            "Epoch: 5, Steps: 267 | Train Loss: 0.3240682 Vali Loss: 0.5049619 Test Loss: 0.3507068\n",
            "Validation loss decreased (0.510494 --> 0.504962).  Saving model ...\n",
            "Updating learning rate to 0.000625\n",
            "\titers: 100, epoch: 6 | loss: 0.3165699\n",
            "\tspeed: 0.0417s/iter; left time: 51.5102s\n",
            "\titers: 200, epoch: 6 | loss: 0.3033476\n",
            "\tspeed: 0.0051s/iter; left time: 5.8332s\n",
            "Epoch: 6 cost time: 1.9678435325622559\n",
            "Epoch: 6, Steps: 267 | Train Loss: 0.3231412 Vali Loss: 0.5066255 Test Loss: 0.3493051\n",
            "EarlyStopping counter: 1 out of 3\n",
            "Updating learning rate to 0.0003125\n",
            "\titers: 100, epoch: 7 | loss: 0.3594035\n",
            "\tspeed: 0.0300s/iter; left time: 29.1143s\n",
            "\titers: 200, epoch: 7 | loss: 0.3414316\n",
            "\tspeed: 0.0054s/iter; left time: 4.6998s\n",
            "Epoch: 7 cost time: 1.8743085861206055\n",
            "Epoch: 7, Steps: 267 | Train Loss: 0.3225774 Vali Loss: 0.5079497 Test Loss: 0.3494201\n",
            "EarlyStopping counter: 2 out of 3\n",
            "Updating learning rate to 0.00015625\n",
            "\titers: 100, epoch: 8 | loss: 0.3145475\n",
            "\tspeed: 0.0440s/iter; left time: 30.8847s\n",
            "\titers: 200, epoch: 8 | loss: 0.3280118\n",
            "\tspeed: 0.0054s/iter; left time: 3.2367s\n",
            "Epoch: 8 cost time: 3.479471445083618\n",
            "Epoch: 8, Steps: 267 | Train Loss: 0.3222084 Vali Loss: 0.5100439 Test Loss: 0.3488722\n",
            "EarlyStopping counter: 3 out of 3\n",
            "Early stopping\n"
          ]
        }
      ]
    },
    {
      "cell_type": "code",
      "source": [
        "preds2, trues2, inputx2 = exp.test(setting)\n",
        "torch.cuda.empty_cache()"
      ],
      "metadata": {
        "colab": {
          "base_uri": "https://localhost:8080/"
        },
        "id": "JYyFkQrQjKzA",
        "outputId": "082fd642-87da-42e7-9e94-5e466ca83376"
      },
      "execution_count": 15,
      "outputs": [
        {
          "output_type": "stream",
          "name": "stdout",
          "text": [
            "test 2833\n",
            "mse:0.3488721549510956, mae:0.37179648876190186, rmse:0.5906540155410767\n"
          ]
        }
      ]
    },
    {
      "cell_type": "markdown",
      "source": [
        "#### **모델 간 비교**"
      ],
      "metadata": {
        "id": "S3sNOy5-kGwP"
      }
    },
    {
      "cell_type": "code",
      "source": [
        "import matplotlib.pyplot as plt\n",
        "%matplotlib inline\n",
        "\n",
        "plt.title('Informer VS DLinear')\n",
        "plt.plot(np.arange(args.seq_len),inputx2[0,:,0], label='True', c='k')\n",
        "plt.plot(np.arange(args.pred_len)+args.seq_len,trues2[0,:,0], c='k')\n",
        "plt.plot(np.arange(args.pred_len)+args.seq_len,preds[0,:,0], label='Informer')\n",
        "plt.plot(np.arange(args.pred_len)+args.seq_len,preds2[0,:,0], label='DLinear', c='r')\n",
        "plt.legend()\n",
        "plt.show()"
      ],
      "metadata": {
        "colab": {
          "base_uri": "https://localhost:8080/",
          "height": 452
        },
        "id": "mPdoNxC2jSgk",
        "outputId": "87458ad0-5bf9-4a98-f382-a8b7e810abb3"
      },
      "execution_count": 20,
      "outputs": [
        {
          "output_type": "display_data",
          "data": {
            "text/plain": [
              "<Figure size 640x480 with 1 Axes>"
            ],
            "image/png": "[encoded data removed]"
          },
          "metadata": {}
        }
      ]
    }
  ]
}